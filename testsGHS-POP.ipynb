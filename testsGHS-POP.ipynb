{
 "cells": [
  {
   "cell_type": "code",
   "metadata": {
    "ExecuteTime": {
     "end_time": "2024-12-19T09:33:46.834390Z",
     "start_time": "2024-12-19T09:33:46.051261Z"
    }
   },
   "source": [
    "# lat, lon = 45.087195, 7.653585\n",
    "import geopandas as gpd\n",
    "from setuptools.compat.py311 import shutil_rmtree\n",
    "from shapely.geometry import Point\n",
    "import requests\n",
    "import zipfile\n",
    "import os\n",
    "import osmnx as ox\n",
    "\n",
    "address = \"Turin, Italy\"\n",
    "\n",
    "# Geocode the address to get the coordinates\n",
    "location = ox.geocode(address)\n",
    "lat, lon = location[1], location[0]\n",
    "\n",
    "# Path of the shapefile\n",
    "shapefile_path = \"tiling_schema/GHSL2_0_MWD_L1_tile_schema_land.shp\"\n",
    "extracted_dir = \"extracted_files\"\n",
    "\n",
    "# Remove the directory if it already exists\n",
    "if os.path.exists(extracted_dir):\n",
    "    shutil_rmtree(extracted_dir)\n",
    "\n",
    "# Check the CRS of the shapefile\n",
    "tiles_gdf = gpd.read_file(shapefile_path)\n",
    "print(f\"Shapefile CRS: {tiles_gdf.crs}\")\n",
    "\n",
    "point = gpd.GeoDataFrame(geometry=[Point(lon, lat)], crs=\"EPSG:4326\")\n",
    "point = point.to_crs(tiles_gdf.crs)\n",
    "\n",
    "current_tile = tiles_gdf[tiles_gdf.geometry.contains(point.geometry.iloc[0])]\n",
    "\n",
    "# Extract the tile id\n",
    "if not current_tile.empty:\n",
    "    tile_id = current_tile.iloc[0]['tile_id']\n",
    "    print(f\"Tile ID: {tile_id}\")\n",
    "\n",
    "    # URL for downloading the tile\n",
    "    url = f\"https://jeodpp.jrc.ec.europa.eu/ftp/jrc-opendata/GHSL/GHS_POP_GLOBE_R2023A/GHS_POP_E2020_GLOBE_R2023A_54009_1000/V1-0/tiles/GHS_POP_E2020_GLOBE_R2023A_54009_1000_V1_0_{tile_id}.zip\"\n",
    "\n",
    "    response = requests.get(url)\n",
    "\n",
    "    # Save the zip file\n",
    "    if response.status_code == 200:\n",
    "        zip_path = 'tile_download.zip'\n",
    "        with open(zip_path, 'wb') as file:\n",
    "            file.write(response.content)\n",
    "\n",
    "        # Estract only the .tif file\n",
    "        with zipfile.ZipFile(zip_path, 'r') as zip_ref:\n",
    "            for file in zip_ref.namelist():\n",
    "                if file.endswith('.tif'):\n",
    "                    zip_ref.extract(file, extracted_dir)\n",
    "                    tif_path = os.path.join(extracted_dir, file)\n",
    "                    new_tif_path = os.path.join(extracted_dir, 'current_tile.tif')\n",
    "                    os.rename(tif_path, new_tif_path)\n",
    "        os.remove(zip_path)\n",
    "\n",
    "    else:\n",
    "        print(\"Error while downloading the tile\")"
   ],
   "outputs": [
    {
     "name": "stdout",
     "output_type": "stream",
     "text": [
      "Shapefile CRS: None\n"
     ]
    },
    {
     "ename": "ValueError",
     "evalue": "Must pass either crs or epsg.",
     "output_type": "error",
     "traceback": [
      "\u001B[0;31m---------------------------------------------------------------------------\u001B[0m",
      "\u001B[0;31mValueError\u001B[0m                                Traceback (most recent call last)",
      "Cell \u001B[0;32mIn[18], line 32\u001B[0m\n\u001B[1;32m     29\u001B[0m point \u001B[38;5;241m=\u001B[39m gpd\u001B[38;5;241m.\u001B[39mGeoDataFrame(geometry\u001B[38;5;241m=\u001B[39m[Point(lon, lat)], crs\u001B[38;5;241m=\u001B[39m\u001B[38;5;124m\"\u001B[39m\u001B[38;5;124mEPSG:4326\u001B[39m\u001B[38;5;124m\"\u001B[39m)\n\u001B[1;32m     31\u001B[0m \u001B[38;5;66;03m# Riproietta il punto nello stesso CRS dello shapefile\u001B[39;00m\n\u001B[0;32m---> 32\u001B[0m point \u001B[38;5;241m=\u001B[39m \u001B[43mpoint\u001B[49m\u001B[38;5;241;43m.\u001B[39;49m\u001B[43mto_crs\u001B[49m\u001B[43m(\u001B[49m\u001B[43mtiles_gdf\u001B[49m\u001B[38;5;241;43m.\u001B[39;49m\u001B[43mcrs\u001B[49m\u001B[43m)\u001B[49m\n\u001B[1;32m     34\u001B[0m \u001B[38;5;66;03m# Trova la tile che contiene il punto\u001B[39;00m\n\u001B[1;32m     35\u001B[0m current_tile \u001B[38;5;241m=\u001B[39m tiles_gdf[tiles_gdf\u001B[38;5;241m.\u001B[39mgeometry\u001B[38;5;241m.\u001B[39mcontains(point\u001B[38;5;241m.\u001B[39mgeometry\u001B[38;5;241m.\u001B[39miloc[\u001B[38;5;241m0\u001B[39m])]\n",
      "File \u001B[0;32m~/miniconda3/envs/geodata_env/lib/python3.10/site-packages/geopandas/geodataframe.py:1410\u001B[0m, in \u001B[0;36mGeoDataFrame.to_crs\u001B[0;34m(self, crs, epsg, inplace)\u001B[0m\n\u001B[1;32m   1408\u001B[0m \u001B[38;5;28;01melse\u001B[39;00m:\n\u001B[1;32m   1409\u001B[0m     df \u001B[38;5;241m=\u001B[39m \u001B[38;5;28mself\u001B[39m\u001B[38;5;241m.\u001B[39mcopy()\n\u001B[0;32m-> 1410\u001B[0m geom \u001B[38;5;241m=\u001B[39m \u001B[43mdf\u001B[49m\u001B[38;5;241;43m.\u001B[39;49m\u001B[43mgeometry\u001B[49m\u001B[38;5;241;43m.\u001B[39;49m\u001B[43mto_crs\u001B[49m\u001B[43m(\u001B[49m\u001B[43mcrs\u001B[49m\u001B[38;5;241;43m=\u001B[39;49m\u001B[43mcrs\u001B[49m\u001B[43m,\u001B[49m\u001B[43m \u001B[49m\u001B[43mepsg\u001B[49m\u001B[38;5;241;43m=\u001B[39;49m\u001B[43mepsg\u001B[49m\u001B[43m)\u001B[49m\n\u001B[1;32m   1411\u001B[0m df\u001B[38;5;241m.\u001B[39mgeometry \u001B[38;5;241m=\u001B[39m geom\n\u001B[1;32m   1412\u001B[0m \u001B[38;5;28;01mif\u001B[39;00m \u001B[38;5;129;01mnot\u001B[39;00m inplace:\n",
      "File \u001B[0;32m~/miniconda3/envs/geodata_env/lib/python3.10/site-packages/geopandas/geoseries.py:1175\u001B[0m, in \u001B[0;36mGeoSeries.to_crs\u001B[0;34m(self, crs, epsg)\u001B[0m\n\u001B[1;32m   1096\u001B[0m \u001B[38;5;28;01mdef\u001B[39;00m \u001B[38;5;21mto_crs\u001B[39m(\n\u001B[1;32m   1097\u001B[0m     \u001B[38;5;28mself\u001B[39m, crs: Optional[Any] \u001B[38;5;241m=\u001B[39m \u001B[38;5;28;01mNone\u001B[39;00m, epsg: Optional[\u001B[38;5;28mint\u001B[39m] \u001B[38;5;241m=\u001B[39m \u001B[38;5;28;01mNone\u001B[39;00m\n\u001B[1;32m   1098\u001B[0m ) \u001B[38;5;241m-\u001B[39m\u001B[38;5;241m>\u001B[39m GeoSeries:\n\u001B[1;32m   1099\u001B[0m \u001B[38;5;250m    \u001B[39m\u001B[38;5;124;03m\"\"\"Returns a ``GeoSeries`` with all geometries transformed to a new\u001B[39;00m\n\u001B[1;32m   1100\u001B[0m \u001B[38;5;124;03m    coordinate reference system.\u001B[39;00m\n\u001B[1;32m   1101\u001B[0m \n\u001B[0;32m   (...)\u001B[0m\n\u001B[1;32m   1172\u001B[0m \n\u001B[1;32m   1173\u001B[0m \u001B[38;5;124;03m    \"\"\"\u001B[39;00m\n\u001B[1;32m   1174\u001B[0m     \u001B[38;5;28;01mreturn\u001B[39;00m GeoSeries(\n\u001B[0;32m-> 1175\u001B[0m         \u001B[38;5;28;43mself\u001B[39;49m\u001B[38;5;241;43m.\u001B[39;49m\u001B[43mvalues\u001B[49m\u001B[38;5;241;43m.\u001B[39;49m\u001B[43mto_crs\u001B[49m\u001B[43m(\u001B[49m\u001B[43mcrs\u001B[49m\u001B[38;5;241;43m=\u001B[39;49m\u001B[43mcrs\u001B[49m\u001B[43m,\u001B[49m\u001B[43m \u001B[49m\u001B[43mepsg\u001B[49m\u001B[38;5;241;43m=\u001B[39;49m\u001B[43mepsg\u001B[49m\u001B[43m)\u001B[49m, index\u001B[38;5;241m=\u001B[39m\u001B[38;5;28mself\u001B[39m\u001B[38;5;241m.\u001B[39mindex, name\u001B[38;5;241m=\u001B[39m\u001B[38;5;28mself\u001B[39m\u001B[38;5;241m.\u001B[39mname\n\u001B[1;32m   1176\u001B[0m     )\n",
      "File \u001B[0;32m~/miniconda3/envs/geodata_env/lib/python3.10/site-packages/geopandas/array.py:864\u001B[0m, in \u001B[0;36mGeometryArray.to_crs\u001B[0;34m(self, crs, epsg)\u001B[0m\n\u001B[1;32m    862\u001B[0m     crs \u001B[38;5;241m=\u001B[39m CRS\u001B[38;5;241m.\u001B[39mfrom_epsg(epsg)\n\u001B[1;32m    863\u001B[0m \u001B[38;5;28;01melse\u001B[39;00m:\n\u001B[0;32m--> 864\u001B[0m     \u001B[38;5;28;01mraise\u001B[39;00m \u001B[38;5;167;01mValueError\u001B[39;00m(\u001B[38;5;124m\"\u001B[39m\u001B[38;5;124mMust pass either crs or epsg.\u001B[39m\u001B[38;5;124m\"\u001B[39m)\n\u001B[1;32m    866\u001B[0m \u001B[38;5;66;03m# skip if the input CRS and output CRS are the exact same\u001B[39;00m\n\u001B[1;32m    867\u001B[0m \u001B[38;5;28;01mif\u001B[39;00m \u001B[38;5;28mself\u001B[39m\u001B[38;5;241m.\u001B[39mcrs\u001B[38;5;241m.\u001B[39mis_exact_same(crs):\n",
      "\u001B[0;31mValueError\u001B[0m: Must pass either crs or epsg."
     ]
    }
   ],
   "execution_count": 18
  },
  {
   "metadata": {},
   "cell_type": "code",
   "outputs": [],
   "execution_count": null,
   "source": ""
  }
 ],
 "metadata": {
  "kernelspec": {
   "display_name": "geodata_env",
   "language": "python",
   "name": "python3"
  },
  "language_info": {
   "codemirror_mode": {
    "name": "ipython",
    "version": 3
   },
   "file_extension": ".py",
   "mimetype": "text/x-python",
   "name": "python",
   "nbconvert_exporter": "python",
   "pygments_lexer": "ipython3",
   "version": "3.10.15"
  }
 },
 "nbformat": 4,
 "nbformat_minor": 2
}
