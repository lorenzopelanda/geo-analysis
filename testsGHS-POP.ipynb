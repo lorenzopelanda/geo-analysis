{
 "cells": [
  {
   "cell_type": "code",
   "metadata": {
    "ExecuteTime": {
     "end_time": "2024-12-19T10:25:18.568431Z",
     "start_time": "2024-12-19T10:25:17.294543Z"
    }
   },
   "source": [
    "import geopandas as gpd\n",
    "from shutil import rmtree\n",
    "from shapely.geometry import Point\n",
    "import requests\n",
    "import zipfile\n",
    "import os\n",
    "import osmnx as ox\n",
    "\n",
    "address = \"Washington, D.C., USA\"\n",
    "\n",
    "# Geocode the address to get the coordinates\n",
    "location = ox.geocode(address)\n",
    "lat, lon = location[1], location[0]\n",
    "\n",
    "# Path of the shapefile\n",
    "shapefile_path = \"tiling_schema/WGS84_tile_schema.shp\"\n",
    "extracted_dir = \"extracted_files\"\n",
    "\n",
    "# Remove the directory if it already exists\n",
    "if os.path.exists(extracted_dir):\n",
    "    rmtree(extracted_dir)\n",
    "\n",
    "# Load the shapefile\n",
    "tiles_gdf = gpd.read_file(shapefile_path)\n",
    "\n",
    "# Ensure the CRS of the tiles is EPSG:4326\n",
    "if tiles_gdf.crs != \"EPSG:4326\":\n",
    "    tiles_gdf = tiles_gdf.to_crs(\"EPSG:4326\")\n",
    "\n",
    "print(f\"Tiles CRS: {tiles_gdf.crs}\")\n",
    "\n",
    "# Create a GeoDataFrame for the point with the same CRS as the tiles\n",
    "point = Point(lat, lon)\n",
    "point_gdf = gpd.GeoDataFrame([{'geometry': point}], crs=\"EPSG:4326\")\n",
    "\n",
    "# Verify in which tile the point is located\n",
    "current_tile = tiles_gdf[tiles_gdf.contains(point_gdf.geometry.iloc[0])]\n",
    "\n",
    "# Extract the tile id\n",
    "if not current_tile.empty:\n",
    "    tile_id = current_tile.iloc[0]['tile_id']\n",
    "    print(f\"Tile ID: {tile_id}\")\n",
    "\n",
    "    # URL for downloading the tile\n",
    "    url = f\"https://jeodpp.jrc.ec.europa.eu/ftp/jrc-opendata/GHSL/GHS_POP_GLOBE_R2023A/GHS_POP_E2030_GLOBE_R2023A_4326_30ss/V1-0/tiles/GHS_POP_E2030_GLOBE_R2023A_4326_30ss_V1_0_{tile_id}.zip\"\n",
    "\n",
    "    response = requests.get(url)\n",
    "\n",
    "    # Save the zip file\n",
    "    if response.status_code == 200:\n",
    "        zip_path = 'tile_download.zip'\n",
    "        with open(zip_path, 'wb') as file:\n",
    "            file.write(response.content)\n",
    "\n",
    "        # Extract only the .tif file\n",
    "        with zipfile.ZipFile(zip_path, 'r') as zip_ref:\n",
    "            for file in zip_ref.namelist():\n",
    "                if file.endswith('.tif'):\n",
    "                    zip_ref.extract(file, extracted_dir)\n",
    "                    tif_path = os.path.join(extracted_dir, file)\n",
    "                    new_tif_path = os.path.join(extracted_dir, 'current_tile.tif')\n",
    "                    os.rename(tif_path, new_tif_path)\n",
    "        os.remove(zip_path)"
   ],
   "outputs": [
    {
     "name": "stdout",
     "output_type": "stream",
     "text": [
      "Tiles CRS: EPSG:4326\n",
      "Tile ID: R6_C11\n"
     ]
    }
   ],
   "execution_count": 40
  },
  {
   "metadata": {},
   "cell_type": "code",
   "outputs": [],
   "execution_count": null,
   "source": ""
  }
 ],
 "metadata": {
  "kernelspec": {
   "display_name": "geodata_env",
   "language": "python",
   "name": "python3"
  },
  "language_info": {
   "codemirror_mode": {
    "name": "ipython",
    "version": 3
   },
   "file_extension": ".py",
   "mimetype": "text/x-python",
   "name": "python",
   "nbconvert_exporter": "python",
   "pygments_lexer": "ipython3",
   "version": "3.10.15"
  }
 },
 "nbformat": 4,
 "nbformat_minor": 2
}
