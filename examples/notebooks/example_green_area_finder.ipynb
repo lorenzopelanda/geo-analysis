{
 "cells": [
  {
   "cell_type": "markdown",
   "id": "3a92a58133d97721",
   "metadata": {},
   "source": [
    "## Example of how to find the nearest green area using the GreenAreaFinderCopernicus and GreenAreaFinderOSM class"
   ]
  },
  {
   "cell_type": "markdown",
   "id": "012051b7",
   "metadata": {},
   "source": [
    "## Copernicus"
   ]
  },
  {
   "cell_type": "markdown",
   "id": "58843ff18b4184a8",
   "metadata": {},
   "source": [
    "#### Find the green area metrics for Copernicus"
   ]
  },
  {
   "cell_type": "code",
   "execution_count": null,
   "id": "initial_id",
   "metadata": {
    "ExecuteTime": {
     "end_time": "2025-03-14T09:04:56.496636Z",
     "start_time": "2025-03-14T09:00:52.172836Z"
    },
    "collapsed": true
   },
   "outputs": [
    {
     "name": "stderr",
     "output_type": "stream",
     "text": [
      "Downloading Copernicus data:  20%|██        | 20/100 [00:03<00:12,  6.57it/s]"
     ]
    },
    {
     "name": "stdout",
     "output_type": "stream",
     "text": [
      "Authenticated using refresh token.\n"
     ]
    },
    {
     "name": "stderr",
     "output_type": "stream",
     "text": [
      "                                                                                      \r"
     ]
    },
    {
     "name": "stdout",
     "output_type": "stream",
     "text": [
      "Coordinates for the starting point: 45.0813291, 7.6675035\n"
     ]
    },
    {
     "name": "stderr",
     "output_type": "stream",
     "text": [
      "                                                                                                           "
     ]
    },
    {
     "name": "stdout",
     "output_type": "stream",
     "text": [
      "-------- COPERNICUS DATA --------\n",
      "Green area per person: 353.845 sqm\n",
      "Time max to reach the green area for the network_type walk: 12 minutes\n",
      "Green area percentage: 16.32%\n",
      "Green area in sqm walked: 11800 sqm\n"
     ]
    },
    {
     "name": "stderr",
     "output_type": "stream",
     "text": [
      "\r"
     ]
    }
   ],
   "source": [
    "from greento.boundingbox import boundingbox\n",
    "from greento.data.copernicus import copernicus as CopernicusDownloader\n",
    "from greento.data.ghspop import ghspop as GHSPOPDownloader\n",
    "from greento.green.copernicus import copernicus as GreenCopernicus\n",
    "from greento.utils.geo import geo\n",
    "from greento.metrics.copernicus import copernicus as MetricsCopernicus\n",
    "from greento.traffic.traffic import traffic\n",
    "import json\n",
    "\n",
    "copernicus_downloader = CopernicusDownloader(\n",
    "        client_id=\"sh-a24a739d-d123-419b-a409-81a190c436c2\",\n",
    "        client_secret=\"dcUnE32uBB1gLvlxyi3qOeUPdGGpNMRs\",\n",
    "        token_url='https://identity.dataspace.copernicus.eu/auth/realms/CDSE/protocol/openid-connect/token',\n",
    "        use_oidc=True\n",
    "    )\n",
    "\n",
    "bbox = boundingbox()\n",
    "bounding_box = bbox.get_bounding_box(query=\"Piazza Castello, Torino\", method=\"from_center_radius\", radius_km=15)\n",
    "# we are using the \"from_center_radius\" method to get the bounding box coordinates, it gets the bounding box from a center point and a radius in km\n",
    "# different methods are available to get the bounding box coordinates, such as \"from_coordinates\" and \"from_geojson\"\n",
    "\n",
    "copernicus_area = copernicus_downloader.get_data(bounding_box)\n",
    "\n",
    "shapefile_path = \"/home/lorenzo/Desktop/GeoAnalysis/geo-analysis/tiling_schema/WGS84_tile_schema.shp\"\n",
    "ghspop = GHSPOPDownloader(shapefile=shapefile_path)\n",
    "ghspop_area = ghspop.get_data(bounding_box)\n",
    "\n",
    "traffic = traffic(bounding_box)\n",
    "traffic_area = traffic.get_traffic_area(\"walk\")\n",
    "\n",
    "address = \"Via Principessa Clotilde 28/B, Torino\"\n",
    "lat, lon = geo().get_coordinates_from_address(address)\n",
    "print(f\"Coordinates for the starting point: {lat}, {lon}\")\n",
    "\n",
    "copernicus_green = GreenCopernicus(copernicus_area)\n",
    "green_copernicus = copernicus_green.get_green() # get the green area from the Copernicus data\n",
    "\n",
    "metrics = MetricsCopernicus(green_copernicus, traffic_area, ghspop_area) # it's passed the green area, the traffic network and the population area\n",
    "network_type = \"walk\"\n",
    "green_area_per_person = metrics.green_area_per_person() # returns a json object with the green area per person\n",
    "isochrone_green = metrics.get_isochrone_green(lat, lon, 12, network_type) # returns a json object with the green area percentage, the max time to reach the green area and the green area in sqm walked\n",
    "\n",
    "green_area_per_person = json.loads(green_area_per_person)\n",
    "isochrone_green = json.loads(isochrone_green)\n",
    "print(\"-------- COPERNICUS DATA --------\")\n",
    "green_area_per_person = green_area_per_person[\"green_area_per_person\"]\n",
    "print(f\"Green area per person: {green_area_per_person} sqm\")\n",
    "green_area_percentage = isochrone_green[\"green_area_percentage\"]\n",
    "time = isochrone_green[\"max_time\"]\n",
    "areasq = isochrone_green[\"green_area_sqm\"]\n",
    "print(f\"Time max to reach the green area for the network_type {network_type}: {time} minutes\")\n",
    "print(f\"Green area percentage: {green_area_percentage}%\")\n",
    "print(f\"Green area in sqm walked: {areasq} sqm\")\n"
   ]
  },
  {
   "cell_type": "markdown",
   "id": "c168889d",
   "metadata": {},
   "source": [
    "#### Find the nearest green position and return the distances for Copernicus"
   ]
  },
  {
   "cell_type": "code",
   "execution_count": null,
   "id": "a4d6be4f",
   "metadata": {},
   "outputs": [
    {
     "name": "stderr",
     "output_type": "stream",
     "text": [
      "Downloading Copernicus data:  20%|██        | 20/100 [00:01<00:07, 10.12it/s]"
     ]
    },
    {
     "name": "stdout",
     "output_type": "stream",
     "text": [
      "Authenticated using refresh token.\n"
     ]
    },
    {
     "name": "stderr",
     "output_type": "stream",
     "text": [
      "                                                                                      \r"
     ]
    },
    {
     "name": "stdout",
     "output_type": "stream",
     "text": [
      "-------- COPERNICUS DATA --------\n",
      "Coordinates for the starting point: 45.0813291, 7.6675035\n",
      "Nearest green position: 45.08191255180181, 7.667669238386118\n"
     ]
    },
    {
     "name": "stderr",
     "output_type": "stream",
     "text": [
      "                                                                            "
     ]
    },
    {
     "name": "stdout",
     "output_type": "stream",
     "text": [
      "Distance \n",
      " {\"distance_km\": 0.0629, \"estimated_time_minutes\": 0.9} \n"
     ]
    },
    {
     "name": "stderr",
     "output_type": "stream",
     "text": [
      "\r"
     ]
    }
   ],
   "source": [
    "from greento.boundingbox import boundingbox\n",
    "from greento.data.copernicus import copernicus as CopernicusDownloader\n",
    "from greento.data.ghspop import ghspop\n",
    "from greento.green.copernicus import copernicus as GreenCopernicus\n",
    "from greento.utils.geo import geo\n",
    "from greento.distance.copernicus import copernicus as DistanceCopernicus\n",
    "from greento.traffic.traffic import traffic\n",
    "import json\n",
    "\n",
    "copernicus_downloader = CopernicusDownloader(\n",
    "        client_id=\"sh-a24a739d-d123-419b-a409-81a190c436c2\",\n",
    "        client_secret=\"dcUnE32uBB1gLvlxyi3qOeUPdGGpNMRs\",\n",
    "        token_url='https://identity.dataspace.copernicus.eu/auth/realms/CDSE/protocol/openid-connect/token',\n",
    "        use_oidc=True\n",
    "    )\n",
    "\n",
    "bbox = boundingbox()\n",
    "bounding_box = bbox.get_bounding_box(query=\"Piazza Castello, Torino\", method=\"from_center_radius\", radius_km=15)\n",
    "# we are using the \"from_center_radius\" method to get the bounding box coordinates, it gets the bounding box from a center point and a radius in km\n",
    "# different methods are available to get the bounding box coordinates, such as \"from_coordinates\" and \"from_geojson\"\n",
    "\n",
    "copernicus_area = copernicus_downloader.get_data(bounding_box)\n",
    "\n",
    "shapefile_path = \"/home/lorenzo/Desktop/GeoAnalysis/geo-analysis/tiling_schema/WGS84_tile_schema.shp\"\n",
    "ghspop_data = ghspop(shapefile=shapefile_path)\n",
    "ghspop_area = ghspop_data.get_data(bounding_box)\n",
    "\n",
    "traffic = traffic(bounding_box)\n",
    "traffic_area = traffic.get_traffic_area(\"walk\")\n",
    "\n",
    "address = \"Via Principessa Clotilde 28/B, Torino\"\n",
    "lat, lon = geo().get_coordinates_from_address(address)\n",
    "\n",
    "\n",
    "copernicus_green = GreenCopernicus(copernicus_area)\n",
    "green_copernicus = copernicus_green.get_green() # get the green area from the Copernicus data\n",
    "\n",
    "distance_copernicus = DistanceCopernicus(green_copernicus, traffic_area)\n",
    "green_lat, green_lon = distance_copernicus.get_nearest_green_position(lat, lon)\n",
    "print(\"-------- COPERNICUS DATA --------\")\n",
    "print(f\"Coordinates for the starting point: {lat}, {lon}\")\n",
    "print(f\"Nearest green position: {green_lat}, {green_lon}\")\n",
    "distance = distance_copernicus.directions(lat, lon, green_lat, green_lon, \"walk\")\n",
    "print(f\"Distance \\n {distance} \")\n"
   ]
  },
  {
   "cell_type": "markdown",
   "id": "6a14bb6f",
   "metadata": {},
   "source": [
    "## OSM"
   ]
  },
  {
   "cell_type": "markdown",
   "id": "594558849a5e8211",
   "metadata": {},
   "source": [
    "#### Find the green area details for OSM"
   ]
  },
  {
   "cell_type": "code",
   "execution_count": null,
   "id": "e3ea12aea98a0de1",
   "metadata": {
    "ExecuteTime": {
     "end_time": "2025-03-14T09:30:04.629481Z",
     "start_time": "2025-03-14T09:25:36.327185Z"
    }
   },
   "outputs": [
    {
     "name": "stderr",
     "output_type": "stream",
     "text": [
      "Downloading Copernicus data:  60%|██████    | 60/100 [00:01<00:01, 37.97it/s]"
     ]
    },
    {
     "name": "stdout",
     "output_type": "stream",
     "text": [
      "Authenticated using refresh token.\n"
     ]
    },
    {
     "name": "stderr",
     "output_type": "stream",
     "text": [
      "                                                                                      \r"
     ]
    },
    {
     "name": "stdout",
     "output_type": "stream",
     "text": [
      "Coordinates for the starting point: 45.0813291, 7.6675035\n"
     ]
    },
    {
     "name": "stderr",
     "output_type": "stream",
     "text": [
      "                                                                                                    "
     ]
    },
    {
     "name": "stdout",
     "output_type": "stream",
     "text": [
      "-------- OSM DATA --------\n",
      "Green area per person: 198.9388 sqm\n",
      "Time max to reach the green area for the network_type walk: 12 minutes\n",
      "Green area percentage: 10.66%\n",
      "Green area in sqm walked: 7700 sqm\n"
     ]
    },
    {
     "name": "stderr",
     "output_type": "stream",
     "text": [
      "\r"
     ]
    }
   ],
   "source": [
    "from greento.boundingbox import boundingbox\n",
    "from greento.data.copernicus import copernicus as CopernicusDownloader\n",
    "from greento.data.ghspop import ghspop as GHSPOPDownloader\n",
    "from greento.data.osm import osm as OSMDownloader\n",
    "from greento.green.copernicus import copernicus as GreenCopernicus\n",
    "from greento.utils.geo import geo\n",
    "from greento.green.osm import osm as GreenOSM\n",
    "from greento.metrics.osm import osm as MetricsOSM\n",
    "from greento.utils.raster import raster\n",
    "from greento.distance.copernicus import copernicus as DistanceCopernicus\n",
    "from greento.distance.osm import osm as DistanceOSM\n",
    "from greento.utils.vector import vector\n",
    "from greento.traffic.traffic import traffic\n",
    "import json\n",
    "\n",
    "copernicus_downloader = CopernicusDownloader(\n",
    "        client_id=\"sh-a24a739d-d123-419b-a409-81a190c436c2\",\n",
    "        client_secret=\"dcUnE32uBB1gLvlxyi3qOeUPdGGpNMRs\",\n",
    "        token_url='https://identity.dataspace.copernicus.eu/auth/realms/CDSE/protocol/openid-connect/token',\n",
    "        use_oidc=True\n",
    "    )\n",
    "\n",
    "osm_downloader = OSMDownloader()\n",
    "bbox = boundingbox()\n",
    "bounding_box = bbox.get_bounding_box(query=\"Piazza Castello, Torino\", method=\"from_center_radius\", radius_km=15)\n",
    "# we are using the \"from_center_radius\" method to get the bounding box coordinates, it gets the bounding box from a center point and a radius in km\n",
    "# different methods are available to get the bounding box coordinates, such as \"from_coordinates\" and \"from_geojson\"\n",
    "\n",
    "copernicus_area = copernicus_downloader.get_data(bounding_box)\n",
    "osm_area = osm_downloader.get_data(bounding_box)\n",
    "\n",
    "shapefile_path = \"/home/lorenzo/Desktop/GeoAnalysis/geo-analysis/tiling_schema/WGS84_tile_schema.shp\"\n",
    "ghspop = GHSPOPDownloader(shapefile=shapefile_path)\n",
    "ghspop_area = ghspop.get_data(bounding_box)\n",
    "\n",
    "traffic = traffic(bounding_box)\n",
    "traffic_area = traffic.get_traffic_area(\"walk\")\n",
    "\n",
    "address = \"Via Principessa Clotilde 28/B, Torino\"\n",
    "lat, lon = geo().get_coordinates_from_address(address)\n",
    "print(f\"Coordinates for the starting point: {lat}, {lon}\")\n",
    "\n",
    "osm_green = GreenOSM(osm_area)\n",
    "green_osm = osm_green.get_green() # get the green area from the OSM data\n",
    "\n",
    "green_osm_raster = vector(green_osm).to_raster(copernicus_area)\n",
    "\n",
    "metrics = MetricsOSM(green_osm_raster, traffic_area, ghspop_area) # it's passed the green area, the traffic network and the population area\n",
    "network_type = \"walk\"\n",
    "green_area_per_person = metrics.green_area_per_person() # returns a json object with the green area per person\n",
    "isochrone_green = metrics.get_isochrone_green(lat, lon, 12, network_type) # returns a json object with the green area percentage, the max time to reach the green area and the green area in sqm walked\n",
    "\n",
    "green_area_per_person = json.loads(green_area_per_person)\n",
    "isochrone_green = json.loads(isochrone_green)\n",
    "print(\"-------- OSM DATA --------\")\n",
    "green_area_per_person = green_area_per_person[\"green_area_per_person\"]\n",
    "print(f\"Green area per person: {green_area_per_person} sqm\")\n",
    "green_area_percentage = isochrone_green[\"green_area_percentage\"]\n",
    "time = isochrone_green[\"max_time\"]\n",
    "areasq = isochrone_green[\"green_area_sqm\"]\n",
    "print(f\"Time max to reach the green area for the network_type {network_type}: {time} minutes\")\n",
    "print(f\"Green area percentage: {green_area_percentage}%\")\n",
    "print(f\"Green area in sqm walked: {areasq} sqm\")\n"
   ]
  },
  {
   "cell_type": "code",
   "execution_count": null,
   "id": "ce9fd29a",
   "metadata": {},
   "outputs": [
    {
     "name": "stderr",
     "output_type": "stream",
     "text": [
      "Downloading Copernicus data:  20%|██        | 20/100 [00:01<00:07, 11.04it/s]"
     ]
    },
    {
     "name": "stdout",
     "output_type": "stream",
     "text": [
      "Authenticated using refresh token.\n"
     ]
    },
    {
     "name": "stderr",
     "output_type": "stream",
     "text": [
      "                                                                                      \r"
     ]
    },
    {
     "name": "stdout",
     "output_type": "stream",
     "text": [
      "-------- OSM DATA --------\n",
      "Coordinates for the starting point: 45.0813291, 7.6675035\n",
      "Nearest green position: 45.08146130175053, 7.6677779626949185\n"
     ]
    },
    {
     "name": "stderr",
     "output_type": "stream",
     "text": [
      "                                                                            "
     ]
    },
    {
     "name": "stdout",
     "output_type": "stream",
     "text": [
      "Distance \n",
      " {\"distance_km\": 0.0, \"estimated_time_minutes\": 0.0} \n"
     ]
    },
    {
     "name": "stderr",
     "output_type": "stream",
     "text": [
      "\r"
     ]
    }
   ],
   "source": [
    "from greento.boundingbox import boundingbox\n",
    "from greento.data.copernicus import copernicus as CopernicusDownloader\n",
    "from greento.data.ghspop import ghspop as GHSPOPDownloader\n",
    "from greento.data.osm import osm as OSMDownloader\n",
    "from greento.utils.geo import geo\n",
    "from greento.green.osm import osm as GreenOSM\n",
    "from greento.distance.copernicus import copernicus as DistanceCopernicus\n",
    "from greento.utils.vector import vector\n",
    "from greento.traffic.traffic import traffic\n",
    "import json\n",
    "\n",
    "copernicus_downloader = CopernicusDownloader(\n",
    "        client_id=\"sh-a24a739d-d123-419b-a409-81a190c436c2\",\n",
    "        client_secret=\"dcUnE32uBB1gLvlxyi3qOeUPdGGpNMRs\",\n",
    "        token_url='https://identity.dataspace.copernicus.eu/auth/realms/CDSE/protocol/openid-connect/token',\n",
    "        use_oidc=True\n",
    "    )\n",
    "\n",
    "bbox = boundingbox()\n",
    "osm_downloader = OSMDownloader()\n",
    "bounding_box = bbox.get_bounding_box(query=\"Piazza Castello, Torino\", method=\"from_center_radius\", radius_km=15)\n",
    "# we are using the \"from_center_radius\" method to get the bounding box coordinates, it gets the bounding box from a center point and a radius in km\n",
    "# different methods are available to get the bounding box coordinates, such as \"from_coordinates\" and \"from_geojson\"\n",
    "\n",
    "copernicus_area = copernicus_downloader.get_data(bounding_box)\n",
    "osm_area = osm_downloader.get_data(bounding_box)\n",
    "shapefile_path = \"/home/lorenzo/Desktop/GeoAnalysis/geo-analysis/tiling_schema/WGS84_tile_schema.shp\"\n",
    "ghspop = GHSPOPDownloader(shapefile=shapefile_path)\n",
    "ghspop_area = ghspop.get_data(bounding_box)\n",
    "\n",
    "traffic = traffic(bounding_box)\n",
    "traffic_area = traffic.get_traffic_area(\"walk\")\n",
    "\n",
    "address = \"Via Principessa Clotilde 28/B, Torino\"\n",
    "lat, lon = geo().get_coordinates_from_address(address)\n",
    "\n",
    "\n",
    "osm_green = GreenOSM(osm_area)\n",
    "green_osm = osm_green.get_green() # get the green area from the OSM data\n",
    "\n",
    "green_osm_raster = vector(green_osm).to_raster(copernicus_area) # convert the green area to raster\n",
    "\n",
    "distance_osm = DistanceOSM(green_osm_raster, traffic_area)\n",
    "green_lat, green_lon = distance_osm.get_nearest_green_position(lat, lon)\n",
    "print(\"-------- OSM DATA --------\")\n",
    "print(f\"Coordinates for the starting point: {lat}, {lon}\")\n",
    "print(f\"Nearest green position: {green_lat}, {green_lon}\")\n",
    "distance = distance_osm.directions(lat, lon, green_lat, green_lon, \"walk\")\n",
    "print(f\"Distance \\n {distance} \")"
   ]
  }
 ],
 "metadata": {
  "kernelspec": {
   "display_name": "geodata_env",
   "language": "python",
   "name": "python3"
  },
  "language_info": {
   "codemirror_mode": {
    "name": "ipython",
    "version": 3
   },
   "file_extension": ".py",
   "mimetype": "text/x-python",
   "name": "python",
   "nbconvert_exporter": "python",
   "pygments_lexer": "ipython3",
   "version": "3.8.18"
  }
 },
 "nbformat": 4,
 "nbformat_minor": 5
}
