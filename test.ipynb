{
 "cells": [
  {
   "metadata": {
    "ExecuteTime": {
     "end_time": "2024-12-20T16:03:09.220981Z",
     "start_time": "2024-12-20T16:03:08.072018Z"
    }
   },
   "cell_type": "code",
   "source": [
    "from import_data import get_raster_area\n",
    "\n",
    "query = \"Turin, Italy\"\n",
    "get_raster_area(query, is_address=False)"
   ],
   "id": "2d175014b4386d29",
   "outputs": [
    {
     "name": "stdout",
     "output_type": "stream",
     "text": [
      "Authenticated using refresh token.\n"
     ]
    },
    {
     "ename": "NameError",
     "evalue": "name 'mapping' is not defined",
     "output_type": "error",
     "traceback": [
      "\u001B[0;31m---------------------------------------------------------------------------\u001B[0m",
      "\u001B[0;31mNameError\u001B[0m                                 Traceback (most recent call last)",
      "Cell \u001B[0;32mIn[33], line 4\u001B[0m\n\u001B[1;32m      1\u001B[0m \u001B[38;5;28;01mfrom\u001B[39;00m \u001B[38;5;21;01mimport_data\u001B[39;00m \u001B[38;5;28;01mimport\u001B[39;00m get_raster_area\n\u001B[1;32m      3\u001B[0m query \u001B[38;5;241m=\u001B[39m \u001B[38;5;124m\"\u001B[39m\u001B[38;5;124mTurin, Italy\u001B[39m\u001B[38;5;124m\"\u001B[39m\n\u001B[0;32m----> 4\u001B[0m \u001B[43mget_raster_area\u001B[49m\u001B[43m(\u001B[49m\u001B[43mquery\u001B[49m\u001B[43m,\u001B[49m\u001B[43m \u001B[49m\u001B[43mis_address\u001B[49m\u001B[38;5;241;43m=\u001B[39;49m\u001B[38;5;28;43;01mFalse\u001B[39;49;00m\u001B[43m)\u001B[49m\n",
      "File \u001B[0;32m~/Desktop/GeoAnalysis/geo-analysis/import_data.py:74\u001B[0m, in \u001B[0;36mget_raster_area\u001B[0;34m(query, is_address)\u001B[0m\n\u001B[1;32m     71\u001B[0m connection\u001B[38;5;241m.\u001B[39mauthenticate_oidc()\n\u001B[1;32m     73\u001B[0m \u001B[38;5;66;03m# Convert the bounding box to GeoJSON\u001B[39;00m\n\u001B[0;32m---> 74\u001B[0m aoi_geojson \u001B[38;5;241m=\u001B[39m \u001B[43mmapping\u001B[49m(get_bounding_box(query, is_address\u001B[38;5;241m=\u001B[39mis_address))\n\u001B[1;32m     76\u001B[0m \u001B[38;5;66;03m# Perform the analysis directly on the remote data\u001B[39;00m\n\u001B[1;32m     77\u001B[0m datacube \u001B[38;5;241m=\u001B[39m connection\u001B[38;5;241m.\u001B[39mload_collection(\n\u001B[1;32m     78\u001B[0m     \u001B[38;5;124m\"\u001B[39m\u001B[38;5;124mESA_WORLDCOVER_10M_2021_V2\u001B[39m\u001B[38;5;124m\"\u001B[39m,\n\u001B[1;32m     79\u001B[0m     spatial_extent\u001B[38;5;241m=\u001B[39maoi_geojson,\n\u001B[1;32m     80\u001B[0m     bands\u001B[38;5;241m=\u001B[39m[\u001B[38;5;124m\"\u001B[39m\u001B[38;5;124mMAP\u001B[39m\u001B[38;5;124m\"\u001B[39m]\n\u001B[1;32m     81\u001B[0m )\n",
      "\u001B[0;31mNameError\u001B[0m: name 'mapping' is not defined"
     ]
    }
   ],
   "execution_count": 33
  },
  {
   "metadata": {},
   "cell_type": "code",
   "outputs": [],
   "execution_count": null,
   "source": "",
   "id": "78246027cac6307c"
  }
 ],
 "metadata": {
  "kernelspec": {
   "display_name": "Python 3",
   "language": "python",
   "name": "python3"
  },
  "language_info": {
   "codemirror_mode": {
    "name": "ipython",
    "version": 2
   },
   "file_extension": ".py",
   "mimetype": "text/x-python",
   "name": "python",
   "nbconvert_exporter": "python",
   "pygments_lexer": "ipython2",
   "version": "2.7.6"
  }
 },
 "nbformat": 4,
 "nbformat_minor": 5
}
