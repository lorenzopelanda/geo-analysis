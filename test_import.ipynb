{
 "cells": [
  {
   "cell_type": "code",
   "execution_count": 1,
   "id": "initial_id",
   "metadata": {
    "ExecuteTime": {
     "end_time": "2024-12-20T16:46:05.242348Z",
     "start_time": "2024-12-20T16:46:04.026197Z"
    },
    "collapsed": true
   },
   "outputs": [
    {
     "name": "stdout",
     "output_type": "stream",
     "text": [
      "Authenticated using refresh token.\n"
     ]
    }
   ],
   "source": [
    "from import_data import get_raster_area\n",
    "query = \"Piazza Castello, Torino\"\n",
    "travel_time = 10\n",
    "travel_mode = \"walk\"\n",
    "get_raster_area(query, travel_time, travel_mode, is_address=True)"
   ]
  },
  {
   "cell_type": "code",
   "execution_count": null,
   "id": "4ead45b90b94b164",
   "metadata": {},
   "outputs": [],
   "source": []
  }
 ],
 "metadata": {
  "kernelspec": {
   "display_name": "geodata_env",
   "language": "python",
   "name": "python3"
  },
  "language_info": {
   "codemirror_mode": {
    "name": "ipython",
    "version": 3
   },
   "file_extension": ".py",
   "mimetype": "text/x-python",
   "name": "python",
   "nbconvert_exporter": "python",
   "pygments_lexer": "ipython3",
   "version": "3.10.15"
  }
 },
 "nbformat": 4,
 "nbformat_minor": 5
}
